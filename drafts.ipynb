{
 "cells": [
  {
   "cell_type": "code",
   "execution_count": 2,
   "metadata": {
    "collapsed": true
   },
   "outputs": [],
   "source": [
    "import torch\n",
    "import torchvision"
   ]
  },
  {
   "cell_type": "code",
   "execution_count": null,
   "outputs": [],
   "source": [],
   "metadata": {
    "collapsed": false,
    "pycharm": {
     "name": "#%% Training parts\n"
    }
   }
  },
  {
   "cell_type": "code",
   "execution_count": 71,
   "outputs": [
    {
     "ename": "RuntimeError",
     "evalue": "Expected object of scalar type Long but got scalar type Float for argument #3 'mat2' in call to _th_addmm_out",
     "output_type": "error",
     "traceback": [
      "\u001B[0;31m---------------------------------------------------------------------------\u001B[0m",
      "\u001B[0;31mRuntimeError\u001B[0m                              Traceback (most recent call last)",
      "\u001B[0;32m<ipython-input-71-7366930758d2>\u001B[0m in \u001B[0;36m<module>\u001B[0;34m\u001B[0m\n\u001B[1;32m      9\u001B[0m                        [0,1,0]])\n\u001B[1;32m     10\u001B[0m \u001B[0mclass_true\u001B[0m \u001B[0;34m=\u001B[0m \u001B[0my_true\u001B[0m\u001B[0;34m.\u001B[0m\u001B[0mmax\u001B[0m\u001B[0;34m(\u001B[0m\u001B[0;36m1\u001B[0m\u001B[0;34m)\u001B[0m\u001B[0;34m.\u001B[0m\u001B[0mindices\u001B[0m\u001B[0;34m\u001B[0m\u001B[0;34m\u001B[0m\u001B[0m\n\u001B[0;32m---> 11\u001B[0;31m \u001B[0mmask\u001B[0m \u001B[0;34m=\u001B[0m \u001B[0;34m(\u001B[0m\u001B[0;34m(\u001B[0m\u001B[0mclass_true\u001B[0m \u001B[0;34m!=\u001B[0m \u001B[0mclass_pred\u001B[0m\u001B[0;34m)\u001B[0m\u001B[0;34m[\u001B[0m\u001B[0;34m:\u001B[0m\u001B[0;34m,\u001B[0m\u001B[0;32mNone\u001B[0m\u001B[0;34m]\u001B[0m \u001B[0;34m*\u001B[0m \u001B[0;36m1\u001B[0m\u001B[0;34m)\u001B[0m\u001B[0;34m.\u001B[0m\u001B[0mmm\u001B[0m\u001B[0;34m(\u001B[0m\u001B[0mtorch\u001B[0m\u001B[0;34m.\u001B[0m\u001B[0mones\u001B[0m\u001B[0;34m(\u001B[0m\u001B[0;34m(\u001B[0m\u001B[0;36m1\u001B[0m\u001B[0;34m,\u001B[0m\u001B[0mclass_num\u001B[0m\u001B[0;34m)\u001B[0m\u001B[0;34m)\u001B[0m\u001B[0;34m)\u001B[0m\u001B[0;34m\u001B[0m\u001B[0;34m\u001B[0m\u001B[0m\n\u001B[0m\u001B[1;32m     12\u001B[0m \u001B[0my_pred_filtered\u001B[0m \u001B[0;34m=\u001B[0m \u001B[0my_pred\u001B[0m\u001B[0;34m[\u001B[0m\u001B[0mmask\u001B[0m \u001B[0;34m==\u001B[0m \u001B[0;36m1\u001B[0m\u001B[0;34m]\u001B[0m\u001B[0;34m.\u001B[0m\u001B[0mview\u001B[0m\u001B[0;34m(\u001B[0m\u001B[0;34m-\u001B[0m\u001B[0;36m1\u001B[0m\u001B[0;34m,\u001B[0m\u001B[0mclass_num\u001B[0m\u001B[0;34m)\u001B[0m\u001B[0;34m\u001B[0m\u001B[0;34m\u001B[0m\u001B[0m\n\u001B[1;32m     13\u001B[0m \u001B[0my_true_filtered\u001B[0m \u001B[0;34m=\u001B[0m \u001B[0my_true\u001B[0m\u001B[0;34m[\u001B[0m\u001B[0mmask\u001B[0m \u001B[0;34m==\u001B[0m \u001B[0;36m1\u001B[0m\u001B[0;34m]\u001B[0m\u001B[0;34m.\u001B[0m\u001B[0mview\u001B[0m\u001B[0;34m(\u001B[0m\u001B[0;34m-\u001B[0m\u001B[0;36m1\u001B[0m\u001B[0;34m,\u001B[0m\u001B[0mclass_num\u001B[0m\u001B[0;34m)\u001B[0m\u001B[0;34m\u001B[0m\u001B[0;34m\u001B[0m\u001B[0m\n",
      "\u001B[0;31mRuntimeError\u001B[0m: Expected object of scalar type Long but got scalar type Float for argument #3 'mat2' in call to _th_addmm_out"
     ]
    }
   ],
   "source": [
    "class_num = 3\n",
    "y_pred = torch.tensor([[0,1,0],\n",
    "              [1,0,0],\n",
    "              [0,0.2,0.8]])\n",
    "y_true = torch.tensor([[0,1,0],\n",
    "                       [1,0,0],\n",
    "                       [0,1,0]])\n",
    "class_pred = y_pred.max(1).indices\n",
    "class_true = y_true.max(1).indices\n",
    "mask = ((class_true != class_pred)[:,None] * 1).mm(torch.ones((1,class_num)))\n",
    "y_pred_filtered = y_pred[mask == 1].view(-1,class_num)\n",
    "y_true_filtered = y_true[mask == 1].view(-1,class_num)"
   ],
   "metadata": {
    "collapsed": false,
    "pycharm": {
     "name": "#%%\n"
    }
   }
  },
  {
   "cell_type": "code",
   "execution_count": 72,
   "outputs": [
    {
     "data": {
      "text/plain": "tensor([[0.0000, 0.2000, 0.8000]])"
     },
     "execution_count": 72,
     "metadata": {},
     "output_type": "execute_result"
    }
   ],
   "source": [
    "y_pred_filtered"
   ],
   "metadata": {
    "collapsed": false,
    "pycharm": {
     "name": "#%%\n"
    }
   }
  },
  {
   "cell_type": "code",
   "execution_count": 73,
   "outputs": [
    {
     "data": {
      "text/plain": "tensor([[0, 1, 0]])"
     },
     "execution_count": 73,
     "metadata": {},
     "output_type": "execute_result"
    }
   ],
   "source": [
    "y_true_filtered"
   ],
   "metadata": {
    "collapsed": false,
    "pycharm": {
     "name": "#%%\n"
    }
   }
  },
  {
   "cell_type": "code",
   "execution_count": 74,
   "outputs": [
    {
     "data": {
      "text/plain": "tensor([[1, 0, 0, 1, 0, 0, 1, 0, 0],\n        [0, 0, 1, 0, 0, 1, 0, 0, 1],\n        [1, 0, 0, 1, 0, 0, 1, 0, 0]])"
     },
     "execution_count": 74,
     "metadata": {},
     "output_type": "execute_result"
    }
   ],
   "source": [
    "import functools\n",
    "l1 = torch.tensor([[1,0,0],[0,0,1],[1,0,0]])\n",
    "l2 = torch.tensor([[1,0,0],[0,0,1],[1,0,0]])\n",
    "l3 = torch.tensor([[1,0,0],[0,0,1],[1,0,0]])\n",
    "torch.cat((l1,l2,l3),1)\n"
   ],
   "metadata": {
    "collapsed": false,
    "pycharm": {
     "name": "#%% nn module\n"
    }
   }
  },
  {
   "cell_type": "code",
   "execution_count": 66,
   "outputs": [],
   "source": [
    "class CourtNet(torch.nn.Module):\n",
    "    def __init__(self, jurors, class_num):\n",
    "        super(CourtNet, self).__init__()\n",
    "        self.jurors = jurors\n",
    "        self.class_num = class_num\n",
    "        l1_output_size = class_num * len(jurors) // 2\n",
    "        self.l1 = torch.nn.Linear(class_num * len(jurors), l1_output_size)\n",
    "        self.f1 = torch.nn.functional.relu\n",
    "        self.l2 = torch.nn.Linear(l1_output_size, class_num)\n",
    "        def f2(input_tensor):\n",
    "            return torch.nn.functional.softmax(input_tensor, 1)\n",
    "        self.f2 = f2\n",
    "\n",
    "    def forward(self, x):\n",
    "        jurors_pred = torch.cat([juror(x) for juror in self.jurors], 1)\n",
    "        return self.f2(self.l2(self.f1(self.l1(jurors_pred))))\n"
   ],
   "metadata": {
    "collapsed": false,
    "pycharm": {
     "name": "#%%\n"
    }
   }
  },
  {
   "cell_type": "code",
   "execution_count": 70,
   "outputs": [
    {
     "data": {
      "text/plain": "tensor([[0.6769, 0.1620, 0.1611],\n        [0.7196, 0.1497, 0.1307],\n        [0.6750, 0.1780, 0.1470]], grad_fn=<SoftmaxBackward>)"
     },
     "execution_count": 70,
     "metadata": {},
     "output_type": "execute_result"
    }
   ],
   "source": [
    "\n",
    "optimizer = torch.optim.Adam(net.parameters())\n",
    "\n",
    "for (i,(x,y_true)) in dataloader:\n",
    "    y_pred = net(x)\n",
    "    class_pred = y_pred.max(1).indices\n",
    "    class_true = y_true.max(1).indices\n",
    "    mask = ((class_true != class_pred)[:,None] * 1).mm(torch.ones((1,class_num)))\n",
    "    y_pred_filtered = y_pred[mask == 1].view(-1,class_num)\n",
    "    y_true_filtered = y_true[mask == 1].view(-1,class_num)\n",
    "\n",
    "\n",
    "\n"
   ],
   "metadata": {
    "collapsed": false,
    "pycharm": {
     "name": "#%%\n"
    }
   }
  },
  {
   "cell_type": "code",
   "execution_count": 123,
   "outputs": [
    {
     "data": {
      "text/plain": "tensor([[ 1.2117,  2.0085, -0.6506, -1.1995]], grad_fn=<AddmmBackward>)"
     },
     "execution_count": 123,
     "metadata": {},
     "output_type": "execute_result"
    }
   ],
   "source": [],
   "metadata": {
    "collapsed": false,
    "pycharm": {
     "name": "#%%\n"
    }
   }
  },
  {
   "cell_type": "code",
   "execution_count": null,
   "outputs": [],
   "source": [
    "\n"
   ],
   "metadata": {
    "collapsed": false,
    "pycharm": {
     "name": "#%%\n"
    }
   }
  }
 ],
 "metadata": {
  "kernelspec": {
   "display_name": "Python 3",
   "language": "python",
   "name": "python3"
  },
  "language_info": {
   "codemirror_mode": {
    "name": "ipython",
    "version": 2
   },
   "file_extension": ".py",
   "mimetype": "text/x-python",
   "name": "python",
   "nbconvert_exporter": "python",
   "pygments_lexer": "ipython2",
   "version": "2.7.6"
  }
 },
 "nbformat": 4,
 "nbformat_minor": 0
}